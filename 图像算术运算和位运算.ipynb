{
 "cells": [
  {
   "cell_type": "code",
   "execution_count": 2,
   "id": "3a9c4c1e",
   "metadata": {
    "collapsed": true
   },
   "outputs": [
    {
     "name": "stdout",
     "output_type": "stream",
     "text": [
      "(300, 400, 3)\n",
      "(577, 600, 3)\n",
      "[[[252 254 255]\n",
      "  [252 254 255]\n",
      "  [252 254 255]]\n",
      "\n",
      " [[252 254 254]\n",
      "  [252 254 254]\n",
      "  [252 254 254]]\n",
      "\n",
      " [[250 255 254]\n",
      "  [252 254 254]\n",
      "  [252 254 254]]]\n",
      "-------------\n"
     ]
    }
   ],
   "source": [
    "import cv2\n",
    "import numpy as np\n",
    "\n",
    "\n",
    "# 读取图片\n",
    "cat = cv2.imread('./cat.jpg')\n",
    "dog = cv2.imread('./dog.jpg')\n",
    "\n",
    "print(cat.shape)\n",
    "print(dog.shape)\n",
    "\n",
    "# basic point\n",
    "x = 150\n",
    "y = 200\n",
    "\n",
    "# 在做加法之前需要把图片的形状变得完全一样\n",
    "# 可以通过ndarray的切片方式取出完全一样的形状\n",
    "# 狗更大，所以从狗里切出猫的形状 左闭右开\n",
    "new_dog = dog[0:300, :400]\n",
    "# print(new_dog.shape)\n",
    "# cv2.add 加法操作要求两个图片的长宽相等，通道数相同\n",
    "# add的规则就是两个图对应位置的元素相加，如果超过255，全部变成255\n",
    "print(cat[x:x+3, y:y+3])\n",
    "print('-------------')\n",
    "# print(new_dog[:3, :3])\n",
    "new_img = cv2.add(cat, new_dog)\n",
    "# print('-------------')\n",
    "# print(new_img[:3, :3])\n",
    "\n",
    "# 图片还可以和单个数字进行运算 加法常用\n",
    "# 每个和100进行加法运算，超过255的数字，会被截断，相当于 %256\n",
    "\n",
    "# cat += 100\n",
    "# print(cat[x:x+3, y:y+3])\n",
    "\n",
    "\n",
    "# 减法 substract 对应位置相应元素相减，减完小于0，则变为0 \n",
    "# new_img = cv2.subtract(cat, new_dog)\n",
    "\n",
    "# 乘法 multiply\n",
    "# new_img = cv2.multiply(cat, new_dog)\n",
    "\n",
    "# 除法 divide\n",
    "# new_img = cv2.divide(cat, new_dog)\n",
    "\n",
    "cv2.imshow('new_img', new_img)\n",
    "\n",
    "cv2.waitKey(0)\n",
    "cv2.destroyAllWindows()"
   ]
  },
  {
   "cell_type": "code",
   "execution_count": 3,
   "id": "5f02acb2",
   "metadata": {},
   "outputs": [
    {
     "data": {
      "text/plain": [
       "96"
      ]
     },
     "execution_count": 3,
     "metadata": {},
     "output_type": "execute_result"
    }
   ],
   "source": [
    "(252 + 100)%256"
   ]
  },
  {
   "cell_type": "code",
   "execution_count": 5,
   "id": "7c146229",
   "metadata": {},
   "outputs": [
    {
     "data": {
      "text/plain": [
       "196"
      ]
     },
     "execution_count": 5,
     "metadata": {},
     "output_type": "execute_result"
    }
   ],
   "source": [
    "# OpenCV的逻辑运算——与&或|非~异或^\n",
    "# OpenCV中的逻辑运算就是对应元素进行与&或非异或\n",
    "204 & 213"
   ]
  },
  {
   "cell_type": "code",
   "execution_count": 6,
   "id": "09f0feb8",
   "metadata": {},
   "outputs": [
    {
     "data": {
      "text/plain": [
       "-256"
      ]
     },
     "execution_count": 6,
     "metadata": {},
     "output_type": "execute_result"
    }
   ],
   "source": [
    "# opencv中的非 0反过来是255\n",
    "~255"
   ]
  },
  {
   "cell_type": "code",
   "execution_count": 7,
   "id": "3f88c413",
   "metadata": {},
   "outputs": [
    {
     "data": {
      "text/plain": [
       "25"
      ]
     },
     "execution_count": 7,
     "metadata": {},
     "output_type": "execute_result"
    }
   ],
   "source": [
    "204 ^ 213"
   ]
  },
  {
   "cell_type": "code",
   "execution_count": 31,
   "id": "1eaaf279",
   "metadata": {
    "collapsed": true
   },
   "outputs": [
    {
     "name": "stdout",
     "output_type": "stream",
     "text": [
      "[[[48 24 18]\n",
      "  [51 21 16]]\n",
      "\n",
      " [[55 25 20]\n",
      "  [58 24 18]]]\n",
      "---------\n",
      "[[[53 62 89]\n",
      "  [53 62 89]]\n",
      "\n",
      " [[52 61 88]\n",
      "  [52 61 88]]]\n",
      "---------\n",
      "[[[ 5 38 75]\n",
      "  [ 6 43 73]]\n",
      "\n",
      " [[ 3 36 76]\n",
      "  [14 37 74]]]\n"
     ]
    }
   ],
   "source": [
    "import cv2\n",
    "import numpy as np\n",
    "\n",
    "\n",
    "# 读取图片\n",
    "cat = cv2.imread('./cat.jpg')\n",
    "lion = cv2.imread('./lion.jpg')\n",
    "\n",
    "# print(cat.shape)\n",
    "# print(lion.shape)\n",
    "# 非操作 相当于255 - cat\n",
    "# cat_not = cv2.bitwise_not(cat)\n",
    "# cv2.imshow('not',np.hstack((cat, cat_not)))\n",
    "# print(cat[:2, :2])\n",
    "# print(cat_not[:2, :2])\n",
    "\n",
    "# 与操作 图像颜色会更暗\n",
    "# new_lion = lion[0:300, :400]\n",
    "# 两个图片对应位置的元素进行与操作\n",
    "# cat_and = cv2.bitwise_and(cat, new_lion)\n",
    "\n",
    "# cv2.imshow('and', np.hstack((cat, cat_and)))\n",
    "# print(cat[:2, :2])\n",
    "# print('---------')\n",
    "# print(lion[:2, :2])\n",
    "# print('---------')\n",
    "# print(cat_and[:2, :2])\n",
    "\n",
    "# 或操作 图像颜色会更亮\n",
    "# new_lion = lion[0:300, :400]\n",
    "# 两个图片对应位置的元素进行或操作\n",
    "# cat_and = cv2.bitwise_or(cat, new_lion)\n",
    "\n",
    "# cv2.imshow('or', np.hstack((cat, lion, cat_and)))\n",
    "# print(cat[:2, :2])\n",
    "# print('---------')\n",
    "# print(lion[:2, :2])\n",
    "# print('---------')\n",
    "# print(cat_and[:2, :2])\n",
    "\n",
    "# 异或操作 图像颜色会两极化\n",
    "new_lion = lion[0:300, :400]\n",
    "# 两个图片对应位置的元素进行异或操作\n",
    "cat_and = cv2.bitwise_xor(cat, new_lion)\n",
    "\n",
    "cv2.imshow('xor', np.hstack((cat, lion, cat_and)))\n",
    "print(cat[:2, :2])\n",
    "print('---------')\n",
    "print(lion[:2, :2])\n",
    "print('---------')\n",
    "print(cat_and[:2, :2])\n",
    "\n",
    "cv2.waitKey(0)\n",
    "cv2.destroyAllWindows()"
   ]
  },
  {
   "cell_type": "code",
   "execution_count": 29,
   "id": "2bbc45e6",
   "metadata": {},
   "outputs": [
    {
     "data": {
      "text/plain": [
       "91"
      ]
     },
     "execution_count": 29,
     "metadata": {},
     "output_type": "execute_result"
    }
   ],
   "source": [
    "18 | 89"
   ]
  },
  {
   "cell_type": "markdown",
   "id": "a240a82a",
   "metadata": {},
   "source": [
    "# 图像的基本变换"
   ]
  },
  {
   "cell_type": "code",
   "execution_count": 27,
   "id": "717b7b50",
   "metadata": {},
   "outputs": [
    {
     "name": "stdout",
     "output_type": "stream",
     "text": [
      "(300, 400, 3)\n",
      "(300, 400, 3)\n",
      "(150, 400, 3)\n"
     ]
    }
   ],
   "source": [
    "import cv2\n",
    "import numpy as np\n",
    "\n",
    "\n",
    "src = cv2.imread('./cat.jpg')\n",
    "dst = cv2.imread('./cat.jpg')\n",
    "\n",
    "print(src.shape)\n",
    "print(dst.shape)\n",
    "\n",
    "# 把猫狗缩放大小一样 把狗缩放\n",
    "# new_img1 = cv2.resize(src, (600, 450), interpolation = cv2.INTER_NEAREST)\n",
    "# new_img2 = cv2.resize(src, (600, 450), interpolation = cv2.INTER_LINEAR)# 默认效果\n",
    "# new_img3 = cv2.resize(src, (600, 450), interpolation = cv2.INTER_CUBIC)\n",
    "# new_img4 = cv2.resize(src, (600, 450), interpolation = cv2.INTER_AREA)\n",
    "# print(new_img1.shape)\n",
    "\n",
    "# cv2.imshow('new_img1', new_img1)\n",
    "# cv2.imshow('new_img2', new_img2)\n",
    "# cv2.imshow('new_img3', new_img3)\n",
    "# cv2.imshow('new_img4', new_img4)\n",
    "# cv2.imshow('src', src)\n",
    "\n",
    "new_img = cv2.resize(src, dsize = None, fx = 1.0, fy = 0.5, interpolation = cv2.INTER_AREA)\n",
    "print(new_img.shape)\n",
    "cv2.imshow('new_img', new_img)\n",
    "cv2.imshow('img', src)\n",
    "\n",
    "key = cv2.waitKey(0)        \n",
    "cv2.destroyAllWindows()"
   ]
  },
  {
   "cell_type": "code",
   "execution_count": 6,
   "id": "98049667",
   "metadata": {},
   "outputs": [],
   "source": [
    "# 作业练习\n",
    "# 1.引入一张图片\n",
    "# 2.设计一张图片\n",
    "# 3.规划一下logo的位置，在添加的位置变成黑色\n",
    "# 4.利用add方法，把logo和图片叠加在一起\n",
    "import cv2\n",
    "import numpy as np\n",
    "\n",
    "\n",
    "# 导入图片\n",
    "dog = cv2.imread('./cat.jpg')\n",
    "# cv2.imshow('dog', dog)\n",
    "\n",
    "# 创建LOGO\n",
    "logo = np.zeros((200, 200, 3), np.uint8)\n",
    "\n",
    "# 绘制logo\n",
    "logo[20:80, 20:80] = [0, 0, 255]\n",
    "logo[50:100, 50:100] = [0, 255, 0]\n",
    "# cv2.imshow('logo', logo)\n",
    "\n",
    "# 掩码\n",
    "mask = np.zeros((200, 200), np.uint8)\n",
    "mask[20:80, 20:80] = 255\n",
    "mask[50:100, 50:100] = 255\n",
    "\n",
    "# cv2.imshow('mask', mask)\n",
    "mask_not = cv2.bitwise_not(mask)\n",
    "# cv2.imshow('mask_not', mask_not)\n",
    "\n",
    "# 选择dog添加logo的位置\n",
    "roi = dog[0:200, 0:200]\n",
    "# roi与mask_not进行与运算，先让roi与roi做与运算，然后结果再和mask做与运算，如果与的结果是True,那么返回原图像素，否则返回0\n",
    "tmp = cv2.bitwise_and(roi, roi, mask = mask_not)\n",
    "# cv2.imshow('tmp', tmp)\n",
    "\n",
    "dst = cv2.add(tmp, logo)\n",
    "# cv2.imshow('dst', dst)\n",
    "# 在dog上还原\n",
    "dog[0:200, :200] = dst\n",
    "cv2.imshow('dogLogo', dog)\n",
    "\n",
    "cv2.waitKey(0)\n",
    "cv2.destroyAllWindows()"
   ]
  },
  {
   "cell_type": "code",
   "execution_count": null,
   "id": "89ee5d86",
   "metadata": {},
   "outputs": [],
   "source": []
  }
 ],
 "metadata": {
  "kernelspec": {
   "display_name": "Python 3",
   "language": "python",
   "name": "python3"
  },
  "language_info": {
   "codemirror_mode": {
    "name": "ipython",
    "version": 3
   },
   "file_extension": ".py",
   "mimetype": "text/x-python",
   "name": "python",
   "nbconvert_exporter": "python",
   "pygments_lexer": "ipython3",
   "version": "3.6.8"
  }
 },
 "nbformat": 4,
 "nbformat_minor": 5
}
