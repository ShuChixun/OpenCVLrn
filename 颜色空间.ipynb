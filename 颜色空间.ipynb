{
 "cells": [
  {
   "cell_type": "code",
   "execution_count": 1,
   "id": "dc2ef5fd",
   "metadata": {},
   "outputs": [],
   "source": [
    "# 查看一张图片中所有的颜色数量\n",
    "import cv2\n",
    "\n",
    "\n",
    "lion=cv2.imread('./lion.jpg')\n",
    "cv2.imshow('lion',lion)\n",
    "\n",
    "cv2.waitKey(0)\n",
    "cv2.destroyAllWindows()"
   ]
  },
  {
   "cell_type": "code",
   "execution_count": 2,
   "id": "53dbfe62",
   "metadata": {
    "collapsed": true
   },
   "outputs": [
    {
     "data": {
      "text/plain": [
       "array([[[ 53,  62,  89],\n",
       "        [ 53,  62,  89],\n",
       "        [ 53,  62,  89],\n",
       "        ...,\n",
       "        [ 99, 113, 149],\n",
       "        [ 99, 114, 147],\n",
       "        [ 98, 113, 146]],\n",
       "\n",
       "       [[ 52,  61,  88],\n",
       "        [ 52,  61,  88],\n",
       "        [ 52,  61,  88],\n",
       "        ...,\n",
       "        [ 99, 113, 149],\n",
       "        [ 98, 113, 146],\n",
       "        [ 98, 113, 146]],\n",
       "\n",
       "       [[ 51,  60,  87],\n",
       "        [ 51,  60,  87],\n",
       "        [ 51,  60,  87],\n",
       "        ...,\n",
       "        [ 98, 113, 146],\n",
       "        [ 98, 113, 146],\n",
       "        [ 97, 112, 145]],\n",
       "\n",
       "       ...,\n",
       "\n",
       "       [[ 46,  57,  85],\n",
       "        [ 46,  57,  85],\n",
       "        [ 45,  56,  84],\n",
       "        ...,\n",
       "        [ 67,  80, 106],\n",
       "        [ 68,  82, 105],\n",
       "        [ 69,  83, 102]],\n",
       "\n",
       "       [[ 47,  58,  86],\n",
       "        [ 47,  58,  86],\n",
       "        [ 47,  58,  86],\n",
       "        ...,\n",
       "        [ 68,  82, 105],\n",
       "        [ 70,  83, 105],\n",
       "        [ 70,  84, 103]],\n",
       "\n",
       "       [[ 49,  60,  88],\n",
       "        [ 49,  60,  88],\n",
       "        [ 48,  59,  87],\n",
       "        ...,\n",
       "        [ 70,  82, 106],\n",
       "        [ 71,  84, 106],\n",
       "        [ 71,  85, 104]]], dtype=uint8)"
      ]
     },
     "execution_count": 2,
     "metadata": {},
     "output_type": "execute_result"
    }
   ],
   "source": [
    "# 想看lion中有多少种颜色\n",
    "lion"
   ]
  },
  {
   "cell_type": "code",
   "execution_count": 3,
   "id": "5d61f932",
   "metadata": {},
   "outputs": [
    {
     "ename": "ModuleNotFoundError",
     "evalue": "No module named 'pandas'",
     "output_type": "error",
     "traceback": [
      "\u001b[1;31m---------------------------------------------------------------------------\u001b[0m",
      "\u001b[1;31mModuleNotFoundError\u001b[0m                       Traceback (most recent call last)",
      "\u001b[1;32m<ipython-input-3-eb5881721981>\u001b[0m in \u001b[0;36m<module>\u001b[1;34m\u001b[0m\n\u001b[1;32m----> 1\u001b[1;33m \u001b[1;32mfrom\u001b[0m \u001b[0mpandas\u001b[0m \u001b[1;32mimport\u001b[0m \u001b[0mDataFrame\u001b[0m\u001b[1;33m\u001b[0m\u001b[1;33m\u001b[0m\u001b[0m\n\u001b[0m\u001b[0;32m      2\u001b[0m \u001b[1;33m\u001b[0m\u001b[0m\n\u001b[0;32m      3\u001b[0m \u001b[1;33m\u001b[0m\u001b[0m\n\u001b[0;32m      4\u001b[0m \u001b[1;31m# 用每一个像素创建dataframe\u001b[0m\u001b[1;33m\u001b[0m\u001b[1;33m\u001b[0m\u001b[1;33m\u001b[0m\u001b[0m\n\u001b[0;32m      5\u001b[0m \u001b[0mdf\u001b[0m \u001b[1;33m=\u001b[0m \u001b[0mDataFrame\u001b[0m\u001b[1;33m(\u001b[0m\u001b[0mlion\u001b[0m\u001b[1;33m.\u001b[0m\u001b[0mreshape\u001b[0m\u001b[1;33m(\u001b[0m\u001b[1;33m-\u001b[0m\u001b[1;36m1\u001b[0m\u001b[1;33m,\u001b[0m\u001b[1;36m3\u001b[0m\u001b[1;33m)\u001b[0m\u001b[1;33m)\u001b[0m\u001b[1;33m\u001b[0m\u001b[1;33m\u001b[0m\u001b[0m\n",
      "\u001b[1;31mModuleNotFoundError\u001b[0m: No module named 'pandas'"
     ]
    }
   ],
   "source": [
    "from pandas import DataFrame\n",
    "\n",
    "\n",
    "# 用每一个像素创建dataframe\n",
    "df = DataFrame(lion.reshape(-1,3))\n",
    "\n",
    "df.head()"
   ]
  },
  {
   "cell_type": "code",
   "execution_count": null,
   "id": "7d4f69b7",
   "metadata": {},
   "outputs": [],
   "source": [
    "df.shape"
   ]
  },
  {
   "cell_type": "code",
   "execution_count": 6,
   "id": "1dcbd112",
   "metadata": {},
   "outputs": [
    {
     "data": {
      "text/plain": [
       "31802"
      ]
     },
     "execution_count": 6,
     "metadata": {},
     "output_type": "execute_result"
    }
   ],
   "source": [
    "160200 - df.duplicated().sum()"
   ]
  },
  {
   "cell_type": "code",
   "execution_count": null,
   "id": "63799d6b",
   "metadata": {},
   "outputs": [],
   "source": [
    "# 关键API cv2.cvtColor\n",
    "import cv2\n",
    "\n",
    "def callback(value):\n",
    "    pass\n",
    "\n",
    "cv2.namedWindow('color',cv2.WINDOW_NORMAL)\n",
    "cv2.resizeWindow('color',534,360)\n",
    "\n",
    "# 读取图片，opencv读进来的图片默认是BGR的色彩空间\n",
    "img = cv2.imread('./lion.jpg')\n",
    "\n",
    "# 定义颜色空间转化列表\n",
    "color_spaces = [\n",
    "    # 所有颜色空间的转化都是COLOR开头的\n",
    "    cv2.COLOR_BGR2RGBA, cv2.COLOR_BGR2BGRA,\n",
    "    cv2.COLOR_BGR2GRAY, cv2.COLOR_BGR2HSV,\n",
    "    cv2.COLOR_BGR2YUV\n",
    "]\n",
    "\n",
    "# 设置trackbar\n",
    "cv2.createTrackbar('trackbar', 'color', 0, 4, callback)\n",
    "\n",
    "while True:\n",
    "    # 获取trackbar的值\n",
    "    index = cv2.getTrackbarPos('trackbar', 'color')\n",
    "    \n",
    "    # 进行颜色转化\n",
    "    cvt_img = cv2.cvtColor(img, color_spaces[index])\n",
    "\n",
    "    cv2.imshow('color',cvt_img)\n",
    "    key = cv2.waitKey(100)\n",
    "    if key == ord('q'):\n",
    "        break\n",
    "    \n",
    "cv2.destroyAllWindows()"
   ]
  },
  {
   "cell_type": "code",
   "execution_count": 8,
   "id": "7ab543be",
   "metadata": {
    "collapsed": true
   },
   "outputs": [
    {
     "data": {
      "text/plain": [
       "array([[[ 53,  62,  89],\n",
       "        [ 53,  62,  89],\n",
       "        [ 53,  62,  89],\n",
       "        ...,\n",
       "        [ 99, 113, 149],\n",
       "        [ 99, 114, 147],\n",
       "        [ 98, 113, 146]],\n",
       "\n",
       "       [[ 52,  61,  88],\n",
       "        [ 52,  61,  88],\n",
       "        [ 52,  61,  88],\n",
       "        ...,\n",
       "        [ 99, 113, 149],\n",
       "        [ 98, 113, 146],\n",
       "        [ 98, 113, 146]],\n",
       "\n",
       "       [[ 51,  60,  87],\n",
       "        [ 51,  60,  87],\n",
       "        [ 51,  60,  87],\n",
       "        ...,\n",
       "        [ 98, 113, 146],\n",
       "        [ 98, 113, 146],\n",
       "        [ 97, 112, 145]],\n",
       "\n",
       "       ...,\n",
       "\n",
       "       [[ 46,  57,  85],\n",
       "        [ 46,  57,  85],\n",
       "        [ 45,  56,  84],\n",
       "        ...,\n",
       "        [ 67,  80, 106],\n",
       "        [ 68,  82, 105],\n",
       "        [ 69,  83, 102]],\n",
       "\n",
       "       [[ 47,  58,  86],\n",
       "        [ 47,  58,  86],\n",
       "        [ 47,  58,  86],\n",
       "        ...,\n",
       "        [ 68,  82, 105],\n",
       "        [ 70,  83, 105],\n",
       "        [ 70,  84, 103]],\n",
       "\n",
       "       [[ 49,  60,  88],\n",
       "        [ 49,  60,  88],\n",
       "        [ 48,  59,  87],\n",
       "        ...,\n",
       "        [ 70,  82, 106],\n",
       "        [ 71,  84, 106],\n",
       "        [ 71,  85, 104]]], dtype=uint8)"
      ]
     },
     "execution_count": 8,
     "metadata": {},
     "output_type": "execute_result"
    }
   ],
   "source": [
    "# opencv用mat这种数据结构来表示图片的\n",
    "# c++ 中用mat来保存图片。python中把mat转化成了numpy的ndarray\n",
    "# cv2.imshow()\n",
    "img"
   ]
  },
  {
   "cell_type": "code",
   "execution_count": 9,
   "id": "18ac844f",
   "metadata": {},
   "outputs": [
    {
     "data": {
      "text/plain": [
       "numpy.ndarray"
      ]
     },
     "execution_count": 9,
     "metadata": {},
     "output_type": "execute_result"
    }
   ],
   "source": [
    "type(img)"
   ]
  },
  {
   "cell_type": "code",
   "execution_count": 10,
   "id": "b2da61b1",
   "metadata": {},
   "outputs": [
    {
     "data": {
      "text/plain": [
       "<memory at 0x000001CEE13E95E8>"
      ]
     },
     "execution_count": 10,
     "metadata": {},
     "output_type": "execute_result"
    }
   ],
   "source": [
    "# ndarray4种常见属性？\n",
    "\n",
    "img.data"
   ]
  },
  {
   "cell_type": "code",
   "execution_count": 11,
   "id": "306d35bf",
   "metadata": {},
   "outputs": [],
   "source": [
    "import numpy as np\n",
    "\n",
    "one = np.ones((2,3))"
   ]
  },
  {
   "cell_type": "code",
   "execution_count": 12,
   "id": "9062998b",
   "metadata": {},
   "outputs": [
    {
     "data": {
      "text/plain": [
       "<memory at 0x000001CEE1388CF0>"
      ]
     },
     "execution_count": 12,
     "metadata": {},
     "output_type": "execute_result"
    }
   ],
   "source": [
    "one.data"
   ]
  },
  {
   "cell_type": "code",
   "execution_count": 13,
   "id": "f8951d10",
   "metadata": {},
   "outputs": [
    {
     "data": {
      "text/plain": [
       "480600"
      ]
     },
     "execution_count": 13,
     "metadata": {},
     "output_type": "execute_result"
    }
   ],
   "source": [
    "# 元素总个数\n",
    "img.size"
   ]
  },
  {
   "cell_type": "code",
   "execution_count": 14,
   "id": "66e0776d",
   "metadata": {},
   "outputs": [
    {
     "data": {
      "text/plain": [
       "dtype('uint8')"
      ]
     },
     "execution_count": 14,
     "metadata": {},
     "output_type": "execute_result"
    }
   ],
   "source": [
    "img.dtype"
   ]
  },
  {
   "cell_type": "code",
   "execution_count": 15,
   "id": "80a2a618",
   "metadata": {},
   "outputs": [
    {
     "data": {
      "text/plain": [
       "(300, 534, 3)"
      ]
     },
     "execution_count": 15,
     "metadata": {},
     "output_type": "execute_result"
    }
   ],
   "source": [
    "img.shape"
   ]
  },
  {
   "cell_type": "code",
   "execution_count": 16,
   "id": "98611f97",
   "metadata": {},
   "outputs": [
    {
     "data": {
      "text/plain": [
       "1"
      ]
     },
     "execution_count": 16,
     "metadata": {},
     "output_type": "execute_result"
    }
   ],
   "source": [
    "img.itemsize"
   ]
  },
  {
   "cell_type": "code",
   "execution_count": 17,
   "id": "2cc50020",
   "metadata": {},
   "outputs": [
    {
     "data": {
      "text/plain": [
       "3"
      ]
     },
     "execution_count": 17,
     "metadata": {},
     "output_type": "execute_result"
    }
   ],
   "source": [
    "img.ndim"
   ]
  },
  {
   "cell_type": "code",
   "execution_count": 19,
   "id": "1a515f6b",
   "metadata": {
    "collapsed": true
   },
   "outputs": [
    {
     "data": {
      "text/plain": [
       "array([[[0, 0, 0],\n",
       "        [0, 0, 0],\n",
       "        [0, 0, 0],\n",
       "        ...,\n",
       "        [0, 0, 0],\n",
       "        [0, 0, 0],\n",
       "        [0, 0, 0]],\n",
       "\n",
       "       [[0, 0, 0],\n",
       "        [0, 0, 0],\n",
       "        [0, 0, 0],\n",
       "        ...,\n",
       "        [0, 0, 0],\n",
       "        [0, 0, 0],\n",
       "        [0, 0, 0]],\n",
       "\n",
       "       [[0, 0, 0],\n",
       "        [0, 0, 0],\n",
       "        [0, 0, 0],\n",
       "        ...,\n",
       "        [0, 0, 0],\n",
       "        [0, 0, 0],\n",
       "        [0, 0, 0]],\n",
       "\n",
       "       ...,\n",
       "\n",
       "       [[0, 0, 0],\n",
       "        [0, 0, 0],\n",
       "        [0, 0, 0],\n",
       "        ...,\n",
       "        [0, 0, 0],\n",
       "        [0, 0, 0],\n",
       "        [0, 0, 0]],\n",
       "\n",
       "       [[0, 0, 0],\n",
       "        [0, 0, 0],\n",
       "        [0, 0, 0],\n",
       "        ...,\n",
       "        [0, 0, 0],\n",
       "        [0, 0, 0],\n",
       "        [0, 0, 0]],\n",
       "\n",
       "       [[0, 0, 0],\n",
       "        [0, 0, 0],\n",
       "        [0, 0, 0],\n",
       "        ...,\n",
       "        [0, 0, 0],\n",
       "        [0, 0, 0],\n",
       "        [0, 0, 0]]], dtype=uint8)"
      ]
     },
     "execution_count": 19,
     "metadata": {},
     "output_type": "execute_result"
    }
   ],
   "source": [
    "img.imag"
   ]
  },
  {
   "cell_type": "code",
   "execution_count": 23,
   "id": "703f97b8",
   "metadata": {},
   "outputs": [],
   "source": [
    "# 因为python中图片数据已经包装成ndarray,所以对mat的深浅拷贝，其实就是堆ndarray深浅拷贝\n",
    "import cv2\n",
    "import numpy as np\n",
    "\n",
    "img = cv2.imread('lion.jpg')\n",
    "\n",
    "# 浅拷贝\n",
    "img2 = img.view()\n",
    "\n",
    "# 深拷贝\n",
    "img3 = img.copy()\n",
    "\n",
    "img[10:100, 10:100] = [0, 0, 255]\n",
    "\n",
    "# 横排合放\n",
    "cv2.imshow('img', np.hstack((img, img2, img3)))\n",
    "# cv2.imshow('img',img)\n",
    "# cv2.imshow('img2',img2)\n",
    "# cv2.imshow('img3',img3)\n",
    "\n",
    "cv2.waitKey(0)\n",
    "cv2.destroyAllWindows()"
   ]
  },
  {
   "cell_type": "code",
   "execution_count": 18,
   "id": "0f2c660d",
   "metadata": {
    "collapsed": true
   },
   "outputs": [
    {
     "name": "stdout",
     "output_type": "stream",
     "text": [
      "b [[  0   0   0 ...   0   0 255]\n",
      " [  0   0   0 ...   0   0 255]\n",
      " [  0   0   0 ...   0   0 255]\n",
      " ...\n",
      " [  0   0   0 ...   0   0 255]\n",
      " [  0   0   0 ...   0   0 255]\n",
      " [  0   0   0 ...   0   0 255]]\n"
     ]
    }
   ],
   "source": [
    "# 图像的分割与融合\n",
    "import cv2\n",
    "import numpy as np\n",
    "\n",
    "img = np.zeros((200, 200, 3), np.uint8)\n",
    "# 个人添加的分割线\n",
    "img[99:100, 0:200] = [255, 255, 255]\n",
    "img[0:200, 199:200] = [255, 255, 255]\n",
    "# 分隔通道\n",
    "b,g,r = cv2.split(img)\n",
    "# 修改一些颜色\n",
    "b[10:100, 10:100] = 255\n",
    "g[10:100, 10:100] = 255\n",
    "\n",
    "print('b', b)\n",
    "# 合并通道\n",
    "img2 = cv2.merge((b,g,r))\n",
    "\n",
    "cv2.imshow('img', np.hstack((b, g)))\n",
    "cv2.imshow('img2', np.hstack((img, img2)))\n",
    "\n",
    "cv2.waitKey(0)\n",
    "cv2.destroyAllWindows()"
   ]
  },
  {
   "cell_type": "code",
   "execution_count": 14,
   "id": "1c74a5f1",
   "metadata": {},
   "outputs": [],
   "source": [
    "# 绘制各种图形\n",
    "import cv2\n",
    "import numpy as np\n",
    "\n",
    "\n",
    "# 创建纯黑的背景图用来画图形\n",
    "img = np.zeros((480, 640, 3), np.uint8)\n",
    "\n",
    "# line(img,pt1,pt2,color,thickness,lineType,shift)\n",
    "# cv2.line(img, (10,20), (300,400), (0, 0, 255), 5, 4 )\n",
    "# cv2.line(img, (90,100), (380,480), (0, 0, 255), 5, 16 )\n",
    "# cv2.rectangle(img, (80,80), (380,380), (0, 255, 0), 5)\n",
    "\n",
    "# 画圆 需要圆心坐标，半径大小\n",
    "# cv2.circle(img, (320, 240), 50, (0, 0, 255), 5, 16)\n",
    "\n",
    "# ellipse(img, 中心点, 长宽的一半, 角度, 从哪个角度开始, 从哪个角度结束,...)\n",
    "# axes -> axis\n",
    "# cv2.ellipse(img, (320, 240), (100, 50), 0, 0, 240,[0, 0, 255], 5, 16)\n",
    "# 绘制多边形\n",
    "# pts多边形的点集，必须是int32位\n",
    "# pts = np.array([(250, 100), (150, 300), (50, 100)], np.int32)\n",
    "# 注意pts是三维的 True表示闭合 False表示不闭合\n",
    "# cv2.polylines(img, [pts], True, (0, 0, 255), 5)\n",
    "\n",
    "# 填充多边形\n",
    "# cv2.fillPoly(img, [pts], (0, 0, 255))\n",
    "# cv2.fillConvexPoly()\n",
    "# 绘制文本\n",
    "for i in range(10):\n",
    "    cv2.line(img, (0, i*100), (640, i*100), (255, 255, 255), 1, 4)\n",
    "cv2.putText(img, 'Hello OpenCV', (50, 400), cv2.FONT_HERSHEY_COMPLEX, 2, [0, 0, 255])\n",
    "\n",
    "cv2.imshow('draw', img)\n",
    "\n",
    "cv2.waitKey(0)\n",
    "cv2.destroyAllWindows()"
   ]
  },
  {
   "cell_type": "code",
   "execution_count": 29,
   "id": "27c989e6",
   "metadata": {},
   "outputs": [],
   "source": [
    "# 使用OpenCV绘制中文\n",
    "# 曲线救国，OpenCV是没有办法直接绘制中文\n",
    "# 使用Pillow包 安装pip install pillow\n",
    "from PIL import ImageFont, ImageDraw, Image\n",
    "\n",
    "# 纯白\n",
    "# img = np.full((500, 450, 3), fill_value = 255, dtype = np.uint8)\n",
    "img = cv2.imread('./lion.jpg')\n",
    "# 导入字体文件\n",
    "font = ImageFont.truetype('./msyhbd.ttc', 35)\n",
    "\n",
    "# 创建一个pillow的图片\n",
    "img_pil = Image.fromarray(img)\n",
    "\n",
    "draw = ImageDraw.Draw(img_pil)\n",
    "# 利用draw去绘制中文\n",
    "draw.text((100, 250), '你好我好大家好',font = font, fill = (255, 0, 0, 0))\n",
    "\n",
    "# 重新变回ndarray\n",
    "img = np.array(img_pil)\n",
    "\n",
    "cv2.imshow('img', img)\n",
    "\n",
    "cv2.waitKey(0)\n",
    "cv2.destroyAllWindows()"
   ]
  },
  {
   "cell_type": "code",
   "execution_count": 39,
   "id": "a198c5f8",
   "metadata": {},
   "outputs": [
    {
     "name": "stdout",
     "output_type": "stream",
     "text": [
      "235\n",
      "47\n"
     ]
    }
   ],
   "source": [
    "import cv2\n",
    "import numpy as np\n",
    "\n",
    "curshape = 0\n",
    "startpos = (0, 0)\n",
    "\n",
    "img = np.zeros((480, 640, 3), np.uint8)\n",
    "\n",
    "\n",
    "def mouse_callback(event, x, y, flags, userdata):\n",
    "    if event == cv2.EVENT_LBUTTONDOWN:\n",
    "        # 引入全局变量\n",
    "        global curshape, startpos\n",
    "        # 引入非本层的局部变量用什么关键字 nonlocal\n",
    "        startpos = (x, y)\n",
    "    elif event == cv2.EVENT_LBUTTONUP:\n",
    "        if curshape ==0:\n",
    "            cv2.line(img, startpos, (x, y), (0, 0, 255), 3)\n",
    "        elif curshape == 1:\n",
    "            cv2.rectangle(img, startpos, (x, y), (0, 0, 255), 3)\n",
    "        elif curshape == 2:\n",
    "            a = (x - startpos[0])\n",
    "            b = (y - startpos[1])\n",
    "            r = int((a ** 2 + b ** 2) ** 0.5)\n",
    "            print(r)\n",
    "            cv2.circle(img, startpos, r, (0, 0, 255), 3)\n",
    "        else:\n",
    "            print('暂不支持绘制其它图形')\n",
    "            \n",
    "cv2.namedWindow('drawshape', cv2.WINDOW_NORMAL)\n",
    "cv2.setMouseCallback('drawshape', mouse_callback)\n",
    "\n",
    "while True:\n",
    "    cv2.imshow('drawshape', img)\n",
    "    key = cv2.waitKey(1)\n",
    "    if key == ord('q'):\n",
    "        break\n",
    "    elif key == ord('l'):\n",
    "        curshape = 0\n",
    "    elif key == ord('r'):\n",
    "        curshape = 1\n",
    "    elif key == ord('c'):\n",
    "        curshape = 2\n",
    "        \n",
    "cv2.destroyAllWindows()"
   ]
  },
  {
   "cell_type": "code",
   "execution_count": null,
   "id": "1a56c676",
   "metadata": {},
   "outputs": [],
   "source": []
  }
 ],
 "metadata": {
  "kernelspec": {
   "display_name": "Python 3",
   "language": "python",
   "name": "python3"
  },
  "language_info": {
   "codemirror_mode": {
    "name": "ipython",
    "version": 3
   },
   "file_extension": ".py",
   "mimetype": "text/x-python",
   "name": "python",
   "nbconvert_exporter": "python",
   "pygments_lexer": "ipython3",
   "version": "3.6.8"
  }
 },
 "nbformat": 4,
 "nbformat_minor": 5
}
